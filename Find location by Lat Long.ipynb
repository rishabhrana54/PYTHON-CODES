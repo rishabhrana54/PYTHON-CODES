{
 "cells": [
  {
   "cell_type": "code",
   "execution_count": 4,
   "metadata": {},
   "outputs": [
    {
     "name": "stdout",
     "output_type": "stream",
     "text": [
      "[OrderedDict([('lat', '19.21667'),\n",
      "              ('lon', '73.08333'),\n",
      "              ('name', 'Dombivli'),\n",
      "              ('admin1', 'Maharashtra'),\n",
      "              ('admin2', 'Thane'),\n",
      "              ('cc', 'IN')])]\n"
     ]
    }
   ],
   "source": [
    "import reverse_geocoder as rg \n",
    "import pprint \n",
    "  \n",
    "def reverseGeocode(coordinates): \n",
    "    result = rg.search(coordinates) \n",
    "      \n",
    "    # result is a list containing ordered dictionary. \n",
    "    pprint.pprint(result)  \n",
    "  \n",
    "# \n",
    "if __name__==\"__main__\": \n",
    "      \n",
    "    # Coorinates tuple.Can contain more than one pair. \n",
    "    coordinates =(19.244774, 73.029352) \n",
    "      \n",
    "    reverseGeocode(coordinates)  "
   ]
  },
  {
   "cell_type": "code",
   "execution_count": 3,
   "metadata": {},
   "outputs": [
    {
     "name": "stdout",
     "output_type": "stream",
     "text": [
      "[OrderedDict([('lat', '28.32547'),\n",
      "              ('lon', '76.77858'),\n",
      "              ('name', 'Pataudi'),\n",
      "              ('admin1', 'Haryana'),\n",
      "              ('admin2', 'Gurgaon'),\n",
      "              ('cc', 'IN')])]\n"
     ]
    }
   ],
   "source": [
    "import reverse_geocoder as rg \n",
    "import pprint \n",
    "  \n",
    "def reverseGeocode(coordinates): \n",
    "    result = rg.search(coordinates) \n",
    "      \n",
    "    # result is a list containing ordered dictionary. \n",
    "    pprint.pprint(result)  \n",
    "  \n",
    "# Driver function \n",
    "if __name__==\"__main__\": \n",
    "      \n",
    "    # Coorinates tuple.Can contain more than one pair. \n",
    "    coordinates =(28.307992, 76.823808) \n",
    "      \n",
    "    reverseGeocode(coordinates)  "
   ]
  },
  {
   "cell_type": "code",
   "execution_count": null,
   "metadata": {},
   "outputs": [],
   "source": []
  }
 ],
 "metadata": {
  "kernelspec": {
   "display_name": "Python 3",
   "language": "python",
   "name": "python3"
  },
  "language_info": {
   "codemirror_mode": {
    "name": "ipython",
    "version": 3
   },
   "file_extension": ".py",
   "mimetype": "text/x-python",
   "name": "python",
   "nbconvert_exporter": "python",
   "pygments_lexer": "ipython3",
   "version": "3.7.4"
  }
 },
 "nbformat": 4,
 "nbformat_minor": 2
}
