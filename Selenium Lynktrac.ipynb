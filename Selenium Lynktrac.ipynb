{
 "cells": [
  {
   "cell_type": "code",
   "execution_count": 30,
   "metadata": {},
   "outputs": [
    {
     "ename": "SyntaxError",
     "evalue": "invalid syntax (<ipython-input-30-d97858895f7d>, line 25)",
     "output_type": "error",
     "traceback": [
      "\u001b[1;36m  File \u001b[1;32m\"<ipython-input-30-d97858895f7d>\"\u001b[1;36m, line \u001b[1;32m25\u001b[0m\n\u001b[1;33m    webdriver wait = new WebDriverWait(driver, 10)\u001b[0m\n\u001b[1;37m                 ^\u001b[0m\n\u001b[1;31mSyntaxError\u001b[0m\u001b[1;31m:\u001b[0m invalid syntax\n"
     ]
    }
   ],
   "source": [
    "from selenium import webdriver\n",
    "from selenium.webdriver.common.keys import Keys\n",
    "from selenium.webdriver.common.by import By\n",
    "from selenium.webdriver.firefox.firefox_binary import FirefoxBinary\n",
    "import time\n",
    "from time import sleep\n",
    "\n",
    "binary = FirefoxBinary('C:\\Program Files\\Mozilla Firefox\\firefox.exe')\n",
    "browser=webdriver.Firefox(executable_path=\"C:\\\\Users\\\\admin\\\\Downloads\\\\geckodriver-v0.26.0-win64\\\\geckodriver.exe\")\n",
    "browser.get(\"https://www.lynktrac.io/home\")\n",
    "inputElement=browser.find_element_by_name(\"email\")\n",
    "inputElement.send_keys(\"joshi.pradeep4u@gmail.com\")\n",
    "time.sleep(2)\n",
    "inputElement=browser.find_element_by_name(\"password\")\n",
    "inputElement.send_keys(\"Lynkit39\")\n",
    "time.sleep(2)\n",
    "inputElement.send_keys(Keys.RETURN)\n",
    "time.sleep(2)\n",
    "browser.find_element_by_css_selector('a.grey[href=\"/trip\"]').click()\n",
    "time.sleep(2)\n",
    "browser.find_element_by_class_name('pull-right[data-toggle=\"modal\"]').click()\n",
    "time.sleep(2)\n",
    "#browser.find_element_by_class_name('ng-valid[@name=\"asset_device_Type\"]').click()\n",
    "browser.find_element_by_xpath('//label[@for=\"recipient-name\"]/following-sibling::input')\n",
    "webdriver wait = new WebDriverWait(driver, 10)\n",
    "WebElement element = wait.until(ExpectedConditions.elementToBeClickable(By.xpath(\"//label[@for=\"recipient-name\"]/following-sibling::input\")))\n",
    "element.click()\n",
    "# browser.find_element_by_xpath('//label[@for=\"recipient-name\"]/following-sibling::input').click()\n",
    "# trip= browser.find_element_by_xpath(\"//*[contains(text(), 'Trip Name')]\").click()\n",
    "# trip.send_keys(\"dfgfd\")\n",
    "#browser.find_element_by_css_selector('input.ng-touched').send_keys(\"SDFSD\")\n",
    "# browser.find_element_by_class_name('/div/div[@class=\"form-group\"]/label[@class=\"t-menu-item\"]/input[@class=\"ng-touched\"]').send_keys(\"Sdfdfsfd\")\n",
    "# browser.find_element_by_xpath('/form[@class=\"ng-valid\"/div/div[@class=\"form-group\"/label[for=\"recipent-name\"/input[@class=\"ng.valid\"]\n",
    "# browser.find_element_by_xpath('m[@class=\"ng-valid\"]/div/div[@class=\"form-group\"]/label[for=\"recipent-name\"]/input[@class=\"ng-valid\"]').send_keys(\"FDGDFGD\")\n",
    "# browser.find_element_by_xpath(' )\n",
    "# browser.find_element_by_xpath('/form/div/div/\n",
    "# browser.find_element_by_css_selector(\"select.ng-touched\").click()\n",
    "# dd=browser.find_element_by_css_selector('form.ng-valid')\n",
    "# for i in dd:\n",
    "#     df=i.find_elment_by_xpath('div/div/label/input[class=\"ng-valid\",for=\"recipent-name\"]')\n",
    "#     diff.send_keys(\"FGF\")\n",
    "#rowser.find_element_by_css_selector('label.t-menu-item[for=\"\"\n",
    "\n",
    "# .send_keys(\"sdfd\")\n"
   ]
  },
  {
   "cell_type": "code",
   "execution_count": null,
   "metadata": {},
   "outputs": [],
   "source": []
  }
 ],
 "metadata": {
  "kernelspec": {
   "display_name": "Python 3",
   "language": "python",
   "name": "python3"
  },
  "language_info": {
   "codemirror_mode": {
    "name": "ipython",
    "version": 3
   },
   "file_extension": ".py",
   "mimetype": "text/x-python",
   "name": "python",
   "nbconvert_exporter": "python",
   "pygments_lexer": "ipython3",
   "version": "3.7.4"
  }
 },
 "nbformat": 4,
 "nbformat_minor": 2
}
